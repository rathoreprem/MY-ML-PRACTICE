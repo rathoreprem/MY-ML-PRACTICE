{
 "cells": [
  {
   "cell_type": "code",
   "execution_count": 109,
   "metadata": {},
   "outputs": [
    {
     "data": {
      "text/html": [
       "<div>\n",
       "<style scoped>\n",
       "    .dataframe tbody tr th:only-of-type {\n",
       "        vertical-align: middle;\n",
       "    }\n",
       "\n",
       "    .dataframe tbody tr th {\n",
       "        vertical-align: top;\n",
       "    }\n",
       "\n",
       "    .dataframe thead th {\n",
       "        text-align: right;\n",
       "    }\n",
       "</style>\n",
       "<table border=\"1\" class=\"dataframe\">\n",
       "  <thead>\n",
       "    <tr style=\"text-align: right;\">\n",
       "      <th></th>\n",
       "      <th>c1</th>\n",
       "      <th>c2</th>\n",
       "    </tr>\n",
       "  </thead>\n",
       "  <tbody>\n",
       "    <tr>\n",
       "      <th>0</th>\n",
       "      <td>Ram</td>\n",
       "      <td>Shyam</td>\n",
       "    </tr>\n",
       "    <tr>\n",
       "      <th>1</th>\n",
       "      <td>Shyam</td>\n",
       "      <td>Harry</td>\n",
       "    </tr>\n",
       "    <tr>\n",
       "      <th>2</th>\n",
       "      <td>Harry</td>\n",
       "      <td>Lucy</td>\n",
       "    </tr>\n",
       "    <tr>\n",
       "      <th>3</th>\n",
       "      <td>Lucy</td>\n",
       "      <td>Shiv</td>\n",
       "    </tr>\n",
       "    <tr>\n",
       "      <th>4</th>\n",
       "      <td>Shiv</td>\n",
       "      <td>Shiv</td>\n",
       "    </tr>\n",
       "    <tr>\n",
       "      <th>5</th>\n",
       "      <td>Jake</td>\n",
       "      <td>Hana</td>\n",
       "    </tr>\n",
       "    <tr>\n",
       "      <th>6</th>\n",
       "      <td>Hana</td>\n",
       "      <td>Beast</td>\n",
       "    </tr>\n",
       "    <tr>\n",
       "      <th>7</th>\n",
       "      <td>Beast</td>\n",
       "      <td>Beast</td>\n",
       "    </tr>\n",
       "    <tr>\n",
       "      <th>8</th>\n",
       "      <td>Shady</td>\n",
       "      <td>Shady</td>\n",
       "    </tr>\n",
       "    <tr>\n",
       "      <th>9</th>\n",
       "      <td>Nox</td>\n",
       "      <td>Nox</td>\n",
       "    </tr>\n",
       "  </tbody>\n",
       "</table>\n",
       "</div>"
      ],
      "text/plain": [
       "      c1     c2\n",
       "0    Ram  Shyam\n",
       "1  Shyam  Harry\n",
       "2  Harry   Lucy\n",
       "3   Lucy   Shiv\n",
       "4   Shiv   Shiv\n",
       "5   Jake   Hana\n",
       "6   Hana  Beast\n",
       "7  Beast  Beast\n",
       "8  Shady  Shady\n",
       "9    Nox    Nox"
      ]
     },
     "execution_count": 109,
     "metadata": {},
     "output_type": "execute_result"
    }
   ],
   "source": [
    "import pandas as pd\n",
    "ds=pd.read_csv(\"C:\\\\Users\\\\PREM SINGH RATHORE\\\\Desktop\\\\prem\\\\assignment5.csv\",names=('c1','c2'))\n",
    "ds"
   ]
  },
  {
   "cell_type": "code",
   "execution_count": 110,
   "metadata": {},
   "outputs": [
    {
     "data": {
      "text/plain": [
       "0      Ram\n",
       "1    Shyam\n",
       "2    Harry\n",
       "3     Lucy\n",
       "4     Shiv\n",
       "5     Jake\n",
       "6     Hana\n",
       "7    Beast\n",
       "8    Shady\n",
       "9      Nox\n",
       "Name: c1, dtype: object"
      ]
     },
     "execution_count": 110,
     "metadata": {},
     "output_type": "execute_result"
    }
   ],
   "source": [
    "ds.c1"
   ]
  },
  {
   "cell_type": "code",
   "execution_count": 111,
   "metadata": {
    "scrolled": true
   },
   "outputs": [
    {
     "data": {
      "text/plain": [
       "0    Shyam\n",
       "1    Harry\n",
       "2     Lucy\n",
       "3     Shiv\n",
       "4     Shiv\n",
       "5     Hana\n",
       "6    Beast\n",
       "7    Beast\n",
       "8    Shady\n",
       "9      Nox\n",
       "Name: c2, dtype: object"
      ]
     },
     "execution_count": 111,
     "metadata": {},
     "output_type": "execute_result"
    }
   ],
   "source": [
    "ds.c2"
   ]
  },
  {
   "cell_type": "code",
   "execution_count": 112,
   "metadata": {
    "scrolled": true
   },
   "outputs": [
    {
     "name": "stdout",
     "output_type": "stream",
     "text": [
      "0 Ram Shyam Harry Lucy Shiv\n",
      "1 Shyam Harry Lucy Shiv\n",
      "2 Harry Lucy Shiv\n",
      "3 Lucy Shiv\n",
      "4 Shiv\n",
      "5 Jake Hana Beast\n",
      "6 Hana Beast\n",
      "7 Beast\n",
      "8 Shady\n",
      "9 Nox\n"
     ]
    }
   ],
   "source": [
    "b= ds.c1.count()\n",
    "a=[]\n",
    "for i in range (0,b):\n",
    "    if(ds.c1[i]==ds.c2[i]):\n",
    "        a.append(ds.c1[i])\n",
    "    elif ds.c1[i]!=ds.c2[i]:\n",
    "        a.append(ds.c1[i])\n",
    "        for j in range(i+1,b+1):\n",
    "            if ds.c1[j]!=ds.c2[j]:\n",
    "                a.append(ds.c1[j])\n",
    "            elif ds.c1[j]==ds.c2[j]:\n",
    "                a.append(ds.c1[j])\n",
    "                break;\n",
    "    print(i , *a)\n",
    "    a[:] = []"
   ]
  }
 ],
 "metadata": {
  "kernelspec": {
   "display_name": "Python 3",
   "language": "python",
   "name": "python3"
  },
  "language_info": {
   "codemirror_mode": {
    "name": "ipython",
    "version": 3
   },
   "file_extension": ".py",
   "mimetype": "text/x-python",
   "name": "python",
   "nbconvert_exporter": "python",
   "pygments_lexer": "ipython3",
   "version": "3.7.1"
  }
 },
 "nbformat": 4,
 "nbformat_minor": 2
}
