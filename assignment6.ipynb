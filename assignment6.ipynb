{
 "cells": [
  {
   "cell_type": "code",
   "execution_count": 10,
   "metadata": {},
   "outputs": [
    {
     "name": "stdout",
     "output_type": "stream",
     "text": [
      "monday\n",
      "tuesday\n",
      "wednesday\n",
      "thrusday\n",
      "friday\n",
      "saturday\n",
      "sunday\n"
     ]
    }
   ],
   "source": [
    "#Iterator \n",
    "mytuple = (\"monday\", \"tuesday\", \"wednesday\",\"thrusday\",\"friday\",\"saturday\",\"sunday\")\n",
    "myit = iter(mytuple)\n",
    "a=len(mytuple)\n",
    "for i in range (a):\n",
    "    print(next(myit))"
   ]
  },
  {
   "cell_type": "code",
   "execution_count": null,
   "metadata": {},
   "outputs": [],
   "source": [
    "Iterator:-\n",
    "\n",
    "Iterator in python is any python type that can be used with a ‘for in loop’. \n",
    "Python lists, tuples, dicts and sets are all examples of inbuilt iterators. \n",
    "These types are iterators because they implement following methods.\n",
    "In fact, any object that wants to be an iterator must implement following methods.\n",
    "\n",
    "__iter__ method that is called on initialization of an iterator. \n",
    "This should return an object that has a next or __next__ (in Python 3) method.\n",
    "\n",
    "next ( __next__ in Python 3) The iterator next method should return the next value for the iterable.\n",
    "When an iterator is used with a ‘for in’ loop, the for loop implicitly calls next() on the iterator object. \n",
    "\n",
    "This method should raise a StopIteration to signal the end of the iteration."
   ]
  },
  {
   "cell_type": "code",
   "execution_count": null,
   "metadata": {},
   "outputs": [],
   "source": [
    "map() fuction in python:-\n",
    "map() function returns a list of the results after applying the given function to each item of a given iterable (list, tuple etc.)\n",
    "\n",
    "Syntax :\n",
    "         map(fun, iter)\n",
    "\n",
    "\n",
    "Parameters :\n",
    "            fun : It is a function to which map passes each element of given iterable.\n",
    "            iter : It is a iterable which is to be mapped.\n",
    "\n",
    "NOTE :      You can pass one or more iterable to the map() function.\n",
    "\n",
    "Returns :\n",
    "            Returns a list of the results after applying the given function  \n",
    "            to each item of a given iterable (list, tuple etc.) \n",
    " \n",
    "NOTE : The returned value from map() (map object) then can be passed to functions like list() , set() ."
   ]
  },
  {
   "cell_type": "code",
   "execution_count": 16,
   "metadata": {},
   "outputs": [
    {
     "name": "stdout",
     "output_type": "stream",
     "text": [
      "[1, 4, 9, 16]\n"
     ]
    }
   ],
   "source": [
    "#map() function\n",
    "def squre(n): \n",
    "    return n * n  \n",
    "numbers = (1, 2, 3, 4) \n",
    "result = map(squre, numbers) \n",
    "print(list(result)) "
   ]
  },
  {
   "cell_type": "code",
   "execution_count": null,
   "metadata": {},
   "outputs": [],
   "source": [
    "reduce() in Python:-\n",
    "\n",
    "                    The reduce(fun,seq) function is used to apply a particular function passed in its \n",
    "                    argument to all of the list elements mentioned in the sequence passed along.\n",
    "                    This function is defined in “functools” module.\n",
    "Working : \n",
    "\n",
    "1.At first step, first two elements of sequence are picked and the result is obtained.\n",
    "2.Next step is to apply the same function to the previously attained result and the number just succeeding \n",
    "  the second element and the result is again stored.\n",
    "3.This process continues till no more elements are left in the container.\n",
    "4.The final returned result is returned and printed on console.\n",
    "\n",
    "some important points:-\n",
    "    \n",
    "    1.reduce() is defined in “functools” module, accumulate() in “itertools” module.\n",
    "    2.reduce() stores the intermediate result and only returns the final summation value. \n",
    "    3.reduce(fun,seq) takes function as 1st and sequence as 2nd argument."
   ]
  },
  {
   "cell_type": "code",
   "execution_count": null,
   "metadata": {},
   "outputs": [],
   "source": [
    "Dunder or magic methods in Python:-\n",
    "    \n",
    "                    Dunder or magic methods in Python are the methods having two prefix and suffix underscores in the method name. \n",
    "                    Dunder here means “Double Under (Underscores)”. \n",
    "                    These are commonly used for operator overloading.\n",
    "                    Few examples for magic methods are: __init__, __add__, __len__, __repr__ etc.\n",
    "\n",
    "The __init__ method for initialization is invoked without any call, when an instance of a class is created, \n",
    "like constructors in certain other programming languages such as C++, Java, C#, PHP etc.\n",
    "These methods are the reason we can add two strings with ‘+’ operator without any explicit typecasting."
   ]
  },
  {
   "cell_type": "code",
   "execution_count": null,
   "metadata": {},
   "outputs": [],
   "source": [
    "List Comprehensions:-\n",
    "                    List comprehensions provide a concise way to create lists.Common applications are to make new lists\n",
    "                    where each element is the result of some operations applied to each member of another sequence or iterable, \n",
    "                    or to create a subsequence of those elements that satisfy a certain condition."
   ]
  },
  {
   "cell_type": "code",
   "execution_count": 25,
   "metadata": {},
   "outputs": [
    {
     "name": "stdout",
     "output_type": "stream",
     "text": [
      "[0, 1, 4, 9, 16, 25, 36, 49, 64, 81]\n"
     ]
    }
   ],
   "source": [
    "#List Comprehensions\n",
    "squares = []\n",
    "for x in range(10):\n",
    "        squares.append(x**2)\n",
    "print(squares)"
   ]
  },
  {
   "cell_type": "code",
   "execution_count": 27,
   "metadata": {},
   "outputs": [
    {
     "name": "stdout",
     "output_type": "stream",
     "text": [
      "7.3484692283495345\n"
     ]
    }
   ],
   "source": [
    "#Root mean square\n",
    "import numpy as np\n",
    "\n",
    "arr=[10,4,6,8]\n",
    "n=len(arr)\n",
    "square=0\n",
    "for i in range(0,n):\n",
    "    square+=(arr[i]**2)\n",
    "    mean=(square/(float)(n))\n",
    "root=np.sqrt(mean)\n",
    "print(root)"
   ]
  },
  {
   "cell_type": "code",
   "execution_count": null,
   "metadata": {},
   "outputs": [],
   "source": []
  }
 ],
 "metadata": {
  "kernelspec": {
   "display_name": "Python 3",
   "language": "python",
   "name": "python3"
  },
  "language_info": {
   "codemirror_mode": {
    "name": "ipython",
    "version": 3
   },
   "file_extension": ".py",
   "mimetype": "text/x-python",
   "name": "python",
   "nbconvert_exporter": "python",
   "pygments_lexer": "ipython3",
   "version": "3.7.1"
  }
 },
 "nbformat": 4,
 "nbformat_minor": 2
}
